{
 "cells": [
  {
   "cell_type": "code",
   "execution_count": null,
   "metadata": {},
   "outputs": [],
   "source": [
    "import os\n",
    "\n",
    "# This line will include DEBUG level log messages from the start of the app,\n",
    "# as well as include a \"Local server\" as provider (at http://localhost:5000/optimade/v<MAJOR>),\n",
    "# where <MAJOR> is the major version number of the currently supported OPTIMADE spec version.\n",
    "#os.environ[\"OPTIMADE_CLIENT_DEBUG\"] = \"True\""
   ]
  },
  {
   "cell_type": "code",
   "execution_count": null,
   "metadata": {},
   "outputs": [],
   "source": [
    "from ipyoptimade import (\n",
    "    HeaderDescription,\n",
    "    OptimadeClientFAQ,\n",
    "    OptimadeLog,\n",
    "    OptimadeQueryProviderWidget,\n",
    "    OptimadeQueryFilterWidget,\n",
    "    OptimadeSummaryWidget,\n",
    ")\n",
    "from ipywidgets import dlink, HTML\n",
    "from IPython.display import display\n",
    "\n",
    "from tools_optimade_client import QEInputButton\n",
    "\n",
    "disable_providers = [\n",
    "    # \"cod\",\n",
    "    # \"tcod\",\n",
    "    # \"nmd\",\n",
    "    # \"oqmd\",\n",
    "    # \"aflow\",\n",
    "    # \"matcloud\",\n",
    "    # \"mpds\",\n",
    "    # \"necro\",\n",
    "    # \"jarvis\",\n",
    "    # \"ccpnc\",\n",
    "]\n",
    "skip_databases = {\"Materials Cloud\": [\"optimade-sample\", \"li-ion-conductors\"]}\n",
    "\n",
    "selector = OptimadeQueryProviderWidget(\n",
    "    width_ratio=(38, 51),\n",
    "    database_limit=50,\n",
    "    disable_providers=disable_providers,\n",
    "    skip_databases=skip_databases,\n",
    ")\n",
    "filters = OptimadeQueryFilterWidget(\n",
    "    button_style='primary',\n",
    "    result_limit=25,\n",
    "    subparts_order=[\n",
    "        \"filter_header\",\n",
    "        \"filters\",\n",
    "        \"query_button\",\n",
    "        \"structures_header\",\n",
    "        \"sort_selector\",\n",
    "        \"structure_page_chooser\",\n",
    "        \"structure_drop\",\n",
    "        \"error_or_status_messages\",\n",
    "    ],\n",
    ")\n",
    "summary = OptimadeSummaryWidget(direction='horizontal', button_style='info')\n",
    "qe_input_generator_button = QEInputButton(button_style=\"info\")\n",
    "\n",
    "_ = dlink((selector, 'database'), (filters, 'database'))\n",
    "_ = dlink((filters, 'structure'), (summary, 'entity'))\n",
    "_ = dlink((filters, 'structure'), (qe_input_generator_button, 'structure'))\n",
    "\n",
    "HeaderDescription(button_style='info')"
   ]
  },
  {
   "cell_type": "code",
   "execution_count": null,
   "metadata": {},
   "outputs": [],
   "source": [
    "OptimadeClientFAQ()"
   ]
  },
  {
   "cell_type": "code",
   "execution_count": null,
   "metadata": {},
   "outputs": [],
   "source": [
    "OptimadeLog()"
   ]
  },
  {
   "cell_type": "code",
   "execution_count": null,
   "metadata": {},
   "outputs": [],
   "source": [
    "display(HTML('<h2 style=\"margin-below:0px;padding-below:0px;\">Query a provider\\'s database</h2>'))\n",
    "\n",
    "display(selector, filters, summary)\n",
    "display(qe_input_generator_button)"
   ]
  },
  {
   "cell_type": "code",
   "execution_count": null,
   "metadata": {},
   "outputs": [],
   "source": []
  }
 ],
 "metadata": {
  "kernelspec": {
   "display_name": "Python 3 (ipykernel)",
   "language": "python",
   "name": "python3"
  },
  "language_info": {
   "codemirror_mode": {
    "name": "ipython",
    "version": 3
   },
   "file_extension": ".py",
   "mimetype": "text/x-python",
   "name": "python",
   "nbconvert_exporter": "python",
   "pygments_lexer": "ipython3",
   "version": "3.9.19"
  }
 },
 "nbformat": 4,
 "nbformat_minor": 4
}
