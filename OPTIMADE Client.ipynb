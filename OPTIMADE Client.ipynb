{
 "cells": [
  {
   "cell_type": "code",
   "execution_count": 0,
   "metadata": {},
   "outputs": [],
   "source": [
    "import os\n",
    "\n",
    "# This line will include DEBUG level log messages from the start of the app,\n",
    "# as well as include a \"Local server\" as provider (at http://localhost:5000/optimade/v<MAJOR>),\n",
    "# where <MAJOR> is the major version number of the currently supported OPTIMADE spec version.\n",
    "#os.environ[\"OPTIMADE_CLIENT_DEBUG\"] = \"True\""
   ]
  },
  {
   "cell_type": "code",
   "execution_count": 0,
   "metadata": {},
   "outputs": [
    {
     "data": {
      "application/vnd.jupyter.widget-view+json": {
       "model_id": "ee55bf282fcc48709a72c7b44091f0d2",
       "version_major": 2,
       "version_minor": 0
      },
      "text/plain": []
     },
     "metadata": {},
     "output_type": "display_data"
    },
    {
     "data": {
      "application/vnd.jupyter.widget-view+json": {
       "model_id": "8720103eb68c44a6b17b68dd46bd9264",
       "version_major": 2,
       "version_minor": 0
      },
      "text/plain": [
       "HeaderDescription(children=(ReportLogger(value=\"<input type='hidden' id='report_log' value='%3Cdetails%3E%0A++…"
      ]
     },
     "metadata": {},
     "output_type": "display_data"
    }
   ],
   "source": [
    "from optimade_client import (\n",
    "    HeaderDescription,\n",
    "    OptimadeClientFAQ,\n",
    "    OptimadeLog,\n",
    "    OptimadeQueryProviderWidget,\n",
    "    OptimadeQueryFilterWidget,\n",
    "    OptimadeSummaryWidget,\n",
    ")\n",
    "from ipywidgets import dlink, GridspecLayout, HTML\n",
    "from IPython.display import display\n",
    "\n",
    "selector = OptimadeQueryProviderWidget()\n",
    "filters = OptimadeQueryFilterWidget()\n",
    "summary = OptimadeSummaryWidget(direction='horizontal')\n",
    "\n",
    "_ = dlink((selector, 'database'), (filters, 'database'))\n",
    "_ = dlink((filters, 'structure'), (summary, 'entity'))\n",
    "\n",
    "HeaderDescription()"
   ]
  },
  {
   "cell_type": "code",
   "execution_count": 0,
   "metadata": {},
   "outputs": [
    {
     "data": {
      "application/vnd.jupyter.widget-view+json": {
       "model_id": "f680410c83ec497da91d977598fcc765",
       "version_major": 2,
       "version_minor": 0
      },
      "text/plain": [
       "OptimadeClientFAQ(children=(HTML(value='<h4 style=\"font-weight:bold;\">Why is a provider from Materials-Consort…"
      ]
     },
     "metadata": {},
     "output_type": "display_data"
    }
   ],
   "source": [
    "OptimadeClientFAQ()"
   ]
  },
  {
   "cell_type": "code",
   "execution_count": 0,
   "metadata": {},
   "outputs": [
    {
     "data": {
      "application/vnd.jupyter.widget-view+json": {
       "model_id": "9188c87bd90e4a838dff07a7d7232f5c",
       "version_major": 2,
       "version_minor": 0
      },
      "text/plain": [
       "OptimadeLog(children=(VBox(children=(Checkbox(value=False, description='Show DEBUG messages', indent=False), O…"
      ]
     },
     "metadata": {},
     "output_type": "display_data"
    }
   ],
   "source": [
    "OptimadeLog()"
   ]
  },
  {
   "cell_type": "code",
   "execution_count": 0,
   "metadata": {},
   "outputs": [
    {
     "data": {
      "application/vnd.jupyter.widget-view+json": {
       "model_id": "d6ddf996de3f4bf3ab3179b3a05b54ee",
       "version_major": 2,
       "version_minor": 0
      },
      "text/plain": [
       "HTML(value='<h2 style=\"margin-below:0px;padding-below:0px;\">Query</h2>')"
      ]
     },
     "metadata": {},
     "output_type": "display_data"
    },
    {
     "data": {
      "application/vnd.jupyter.widget-view+json": {
       "model_id": "f1530b43e31c45849d4dc3c7fc73199c",
       "version_major": 2,
       "version_minor": 0
      },
      "text/plain": [
       "OptimadeQueryProviderWidget(children=(ProviderImplementationChooser(children=(Dropdown(layout=Layout(width='au…"
      ]
     },
     "metadata": {},
     "output_type": "display_data"
    },
    {
     "data": {
      "application/vnd.jupyter.widget-view+json": {
       "model_id": "75807e07ca024c359809910e286a0d86",
       "version_major": 2,
       "version_minor": 0
      },
      "text/plain": [
       "OptimadeQueryFilterWidget(children=(HTML(value='<h4 style=\"margin:0px;padding:0px;\">Apply filters</h4>'), Filt…"
      ]
     },
     "metadata": {},
     "output_type": "display_data"
    },
    {
     "data": {
      "application/vnd.jupyter.widget-view+json": {
       "model_id": "be365142502b4e20861d5710d889a344",
       "version_major": 2,
       "version_minor": 0
      },
      "text/plain": [
       "OptimadeSummaryWidget(children=(StructureViewer(children=(Box(children=(NGLWidget(),), layout=Layout(border='s…"
      ]
     },
     "metadata": {},
     "output_type": "display_data"
    }
   ],
   "source": [
    "display(HTML('<h2 style=\"margin-below:0px;padding-below:0px;\">Query</h2>'))\n",
    "\n",
    "display(selector, filters, summary)"
   ]
  }
 ],
 "metadata": {
  "kernelspec": {
   "display_name": "Python 3",
   "language": "python",
   "name": "python3"
  },
  "language_info": {
   "codemirror_mode": {
    "name": "ipython",
    "version": 3
   },
   "file_extension": ".py",
   "mimetype": "text/x-python",
   "name": "python",
   "nbconvert_exporter": "python",
   "pygments_lexer": "ipython3",
   "version": "3.7.9"
  }
 },
 "nbformat": 4,
 "nbformat_minor": 4
}
